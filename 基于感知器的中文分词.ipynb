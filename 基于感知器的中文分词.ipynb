{
 "cells": [
  {
   "cell_type": "code",
   "execution_count": 1,
   "id": "e07d883b",
   "metadata": {},
   "outputs": [],
   "source": [
    "import numpy as np\n",
    "from sklearn.feature_extraction.text import CountVectorizer\n"
   ]
  },
  {
   "cell_type": "code",
   "execution_count": 5,
   "id": "ac322143",
   "metadata": {},
   "outputs": [
    {
     "name": "stdout",
     "output_type": "stream",
     "text": [
      "['我', '爱', '中国']\n"
     ]
    }
   ],
   "source": [
    "class Perceptron(object):\n",
    "    #初始化\n",
    "    def __init__(self):\n",
    "        self.weights = np.zeros([4,7])\n",
    "        self.bias = np.zeros(4)\n",
    "    #预测\n",
    "    def predict(self, input):\n",
    "        pre = []\n",
    "        for i in range(len(input)):\n",
    "            activation = np.dot(input[i], self.weights[i]) + self.bias[i]\n",
    "            if activation >= 0:\n",
    "                pre.append(1)\n",
    "            else:\n",
    "                pre.append(0)\n",
    "        return pre \n",
    "    #更新权重和阈值\n",
    "    def train(self, input, labels, epochs=10, learning_rate=0.1):\n",
    "        for epoch in range(epochs):\n",
    "            for i in range(len(input)):\n",
    "                x = np.array(input[i])\n",
    "                y = labels[i]\n",
    "                y_pred = pre[i]\n",
    "                error = y - y_pred\n",
    "                self.weights[i] += learning_rate * error * x\n",
    "                self.bias[i] += learning_rate * error\n",
    "\n",
    "def tokenize(text, input):\n",
    "    tokens = []\n",
    "    start = 0\n",
    "    for i in range(len(text)):\n",
    "        pre_ = perceptron.predict(input)\n",
    "        if pre_[i]:\n",
    "            tokens.append(text[start:i])\n",
    "            start = i\n",
    "    tokens.append(text[start:])\n",
    "    return tokens\n",
    "\n",
    "def get_features(text, i, n=2):\n",
    "    features = []\n",
    "    for j in range(1, n+1):\n",
    "        if i-j < 0:\n",
    "            features.append('')\n",
    "        else:\n",
    "            features.append(text[i-j:i])\n",
    "    for j in range(1, n+1):\n",
    "        if i+j > len(text):\n",
    "            features.append('')\n",
    "        else:\n",
    "            features.append(text[i:i+j])\n",
    "    return features\n",
    "\n",
    "# 从文本语料库中提取出bigram特征\n",
    "bigram_features = ['我 我爱','我 爱 爱中','爱 我爱 中 中国', '中 爱中 国']\n",
    "\n",
    "# 构建CountVectorizer对象\n",
    "vectorizer = CountVectorizer(ngram_range=(1, 1), token_pattern=r'\\b\\w+\\b', min_df=1)\n",
    "\n",
    "# 将bigram特征转化为特征向量\n",
    "X = vectorizer.fit_transform(bigram_features)\n",
    "\n",
    "\n",
    "vector=X.toarray()\n",
    "\n",
    "text = \"我爱中国\"\n",
    "# 特征向量\n",
    "# vector = [[0,0,0,1,1,0,0],\n",
    "#          [0,0,0,1,0,1,1],\n",
    "#          [1,1,0,0,1,1,0],\n",
    "#          [1,0,1,0,0,0,1]]\n",
    "# 1表示该字符为分词边界，0表示非分词边界\n",
    "labels = [0, 1, 1, 0]\n",
    "input_dim = 7\n",
    "perceptron = Perceptron()\n",
    "# 预测结果\n",
    "pre = perceptron.predict(vector)\n",
    "\n",
    "perceptron.train(vector, labels)\n",
    "\n",
    "tokens = tokenize(text, vector)\n",
    "print(tokens) # ['我', '爱', '中', '国']\n",
    "\n",
    "\n",
    "#f = [get_features(text, i) for i in range(len(text))]\n",
    "#print(f)"
   ]
  }
 ],
 "metadata": {
  "kernelspec": {
   "display_name": "Python 3 (ipykernel)",
   "language": "python",
   "name": "python3"
  },
  "language_info": {
   "codemirror_mode": {
    "name": "ipython",
    "version": 3
   },
   "file_extension": ".py",
   "mimetype": "text/x-python",
   "name": "python",
   "nbconvert_exporter": "python",
   "pygments_lexer": "ipython3",
   "version": "3.8.2"
  }
 },
 "nbformat": 4,
 "nbformat_minor": 5
}
