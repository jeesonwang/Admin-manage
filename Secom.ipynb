{
 "cells": [
  {
   "cell_type": "code",
   "execution_count": 1,
   "id": "f82648f6",
   "metadata": {},
   "outputs": [],
   "source": [
    "import numpy as np\n",
    "import pandas as pd\n",
    "from pandas import Series,DataFrame\n",
    "import seaborn as sns\n",
    "import matplotlib.pyplot as plt\n",
    "import warnings\n",
    "warnings.filterwarnings('ignore')\n",
    "from sklearn.model_selection import train_test_split\n",
    "import datetime\n",
    "# 标准化\n",
    "from sklearn.preprocessing import StandardScaler\n",
    "from sklearn.linear_model import LogisticRegression\n",
    "# 缺失值插补方法\n",
    "from sklearn.impute import KNNImputer\n",
    "# 向量单位化\n",
    "from sklearn.preprocessing import Normalizer\n",
    "# variance threshold\n",
    "from sklearn.feature_selection import VarianceThreshold\n",
    "# f1分数\n",
    "from sklearn.metrics import f1_score, matthews_corrcoef,precision_score, recall_score\n",
    "# 随机森林\n",
    "from sklearn.ensemble import RandomForestClassifier\n",
    "from sklearn.metrics import confusion_matrix\n",
    "from sklearn.naive_bayes import BernoulliNB"
   ]
  },
  {
   "cell_type": "code",
   "execution_count": 2,
   "id": "47ded3f6",
   "metadata": {},
   "outputs": [],
   "source": [
    "# 读取数据\n",
    "df = pd.read_csv('C:/Users/Lenovo/Documents/WeChat Files/wxid_rmt74lhofs1222/FileStorage/File/2022-12/secom.data',sep=' ',header=None)\n",
    "\n",
    "labels_df = pd.read_csv('C:/Users/Lenovo/Documents/WeChat Files/wxid_rmt74lhofs1222/FileStorage/File/2022-12/secom_labels.data',sep=' ',header=None)"
   ]
  },
  {
   "cell_type": "code",
   "execution_count": 3,
   "id": "77d45998",
   "metadata": {},
   "outputs": [
    {
     "data": {
      "text/html": [
       "<div>\n",
       "<style scoped>\n",
       "    .dataframe tbody tr th:only-of-type {\n",
       "        vertical-align: middle;\n",
       "    }\n",
       "\n",
       "    .dataframe tbody tr th {\n",
       "        vertical-align: top;\n",
       "    }\n",
       "\n",
       "    .dataframe thead th {\n",
       "        text-align: right;\n",
       "    }\n",
       "</style>\n",
       "<table border=\"1\" class=\"dataframe\">\n",
       "  <thead>\n",
       "    <tr style=\"text-align: right;\">\n",
       "      <th></th>\n",
       "      <th>0</th>\n",
       "      <th>1</th>\n",
       "      <th>2</th>\n",
       "      <th>3</th>\n",
       "      <th>4</th>\n",
       "      <th>5</th>\n",
       "      <th>6</th>\n",
       "      <th>7</th>\n",
       "      <th>8</th>\n",
       "      <th>9</th>\n",
       "      <th>...</th>\n",
       "      <th>580</th>\n",
       "      <th>581</th>\n",
       "      <th>582</th>\n",
       "      <th>583</th>\n",
       "      <th>584</th>\n",
       "      <th>585</th>\n",
       "      <th>586</th>\n",
       "      <th>587</th>\n",
       "      <th>588</th>\n",
       "      <th>589</th>\n",
       "    </tr>\n",
       "  </thead>\n",
       "  <tbody>\n",
       "    <tr>\n",
       "      <th>0</th>\n",
       "      <td>3030.93</td>\n",
       "      <td>2564.00</td>\n",
       "      <td>2187.7333</td>\n",
       "      <td>1411.1265</td>\n",
       "      <td>1.3602</td>\n",
       "      <td>100.0</td>\n",
       "      <td>97.6133</td>\n",
       "      <td>0.1242</td>\n",
       "      <td>1.5005</td>\n",
       "      <td>0.0162</td>\n",
       "      <td>...</td>\n",
       "      <td>NaN</td>\n",
       "      <td>NaN</td>\n",
       "      <td>0.5005</td>\n",
       "      <td>0.0118</td>\n",
       "      <td>0.0035</td>\n",
       "      <td>2.3630</td>\n",
       "      <td>NaN</td>\n",
       "      <td>NaN</td>\n",
       "      <td>NaN</td>\n",
       "      <td>NaN</td>\n",
       "    </tr>\n",
       "    <tr>\n",
       "      <th>1</th>\n",
       "      <td>3095.78</td>\n",
       "      <td>2465.14</td>\n",
       "      <td>2230.4222</td>\n",
       "      <td>1463.6606</td>\n",
       "      <td>0.8294</td>\n",
       "      <td>100.0</td>\n",
       "      <td>102.3433</td>\n",
       "      <td>0.1247</td>\n",
       "      <td>1.4966</td>\n",
       "      <td>-0.0005</td>\n",
       "      <td>...</td>\n",
       "      <td>0.0060</td>\n",
       "      <td>208.2045</td>\n",
       "      <td>0.5019</td>\n",
       "      <td>0.0223</td>\n",
       "      <td>0.0055</td>\n",
       "      <td>4.4447</td>\n",
       "      <td>0.0096</td>\n",
       "      <td>0.0201</td>\n",
       "      <td>0.0060</td>\n",
       "      <td>208.2045</td>\n",
       "    </tr>\n",
       "    <tr>\n",
       "      <th>2</th>\n",
       "      <td>2932.61</td>\n",
       "      <td>2559.94</td>\n",
       "      <td>2186.4111</td>\n",
       "      <td>1698.0172</td>\n",
       "      <td>1.5102</td>\n",
       "      <td>100.0</td>\n",
       "      <td>95.4878</td>\n",
       "      <td>0.1241</td>\n",
       "      <td>1.4436</td>\n",
       "      <td>0.0041</td>\n",
       "      <td>...</td>\n",
       "      <td>0.0148</td>\n",
       "      <td>82.8602</td>\n",
       "      <td>0.4958</td>\n",
       "      <td>0.0157</td>\n",
       "      <td>0.0039</td>\n",
       "      <td>3.1745</td>\n",
       "      <td>0.0584</td>\n",
       "      <td>0.0484</td>\n",
       "      <td>0.0148</td>\n",
       "      <td>82.8602</td>\n",
       "    </tr>\n",
       "    <tr>\n",
       "      <th>3</th>\n",
       "      <td>2988.72</td>\n",
       "      <td>2479.90</td>\n",
       "      <td>2199.0333</td>\n",
       "      <td>909.7926</td>\n",
       "      <td>1.3204</td>\n",
       "      <td>100.0</td>\n",
       "      <td>104.2367</td>\n",
       "      <td>0.1217</td>\n",
       "      <td>1.4882</td>\n",
       "      <td>-0.0124</td>\n",
       "      <td>...</td>\n",
       "      <td>0.0044</td>\n",
       "      <td>73.8432</td>\n",
       "      <td>0.4990</td>\n",
       "      <td>0.0103</td>\n",
       "      <td>0.0025</td>\n",
       "      <td>2.0544</td>\n",
       "      <td>0.0202</td>\n",
       "      <td>0.0149</td>\n",
       "      <td>0.0044</td>\n",
       "      <td>73.8432</td>\n",
       "    </tr>\n",
       "    <tr>\n",
       "      <th>4</th>\n",
       "      <td>3032.24</td>\n",
       "      <td>2502.87</td>\n",
       "      <td>2233.3667</td>\n",
       "      <td>1326.5200</td>\n",
       "      <td>1.5334</td>\n",
       "      <td>100.0</td>\n",
       "      <td>100.3967</td>\n",
       "      <td>0.1235</td>\n",
       "      <td>1.5031</td>\n",
       "      <td>-0.0031</td>\n",
       "      <td>...</td>\n",
       "      <td>NaN</td>\n",
       "      <td>NaN</td>\n",
       "      <td>0.4800</td>\n",
       "      <td>0.4766</td>\n",
       "      <td>0.1045</td>\n",
       "      <td>99.3032</td>\n",
       "      <td>0.0202</td>\n",
       "      <td>0.0149</td>\n",
       "      <td>0.0044</td>\n",
       "      <td>73.8432</td>\n",
       "    </tr>\n",
       "  </tbody>\n",
       "</table>\n",
       "<p>5 rows × 590 columns</p>\n",
       "</div>"
      ],
      "text/plain": [
       "       0        1          2          3       4      5         6       7    \\\n",
       "0  3030.93  2564.00  2187.7333  1411.1265  1.3602  100.0   97.6133  0.1242   \n",
       "1  3095.78  2465.14  2230.4222  1463.6606  0.8294  100.0  102.3433  0.1247   \n",
       "2  2932.61  2559.94  2186.4111  1698.0172  1.5102  100.0   95.4878  0.1241   \n",
       "3  2988.72  2479.90  2199.0333   909.7926  1.3204  100.0  104.2367  0.1217   \n",
       "4  3032.24  2502.87  2233.3667  1326.5200  1.5334  100.0  100.3967  0.1235   \n",
       "\n",
       "      8       9    ...     580       581     582     583     584      585  \\\n",
       "0  1.5005  0.0162  ...     NaN       NaN  0.5005  0.0118  0.0035   2.3630   \n",
       "1  1.4966 -0.0005  ...  0.0060  208.2045  0.5019  0.0223  0.0055   4.4447   \n",
       "2  1.4436  0.0041  ...  0.0148   82.8602  0.4958  0.0157  0.0039   3.1745   \n",
       "3  1.4882 -0.0124  ...  0.0044   73.8432  0.4990  0.0103  0.0025   2.0544   \n",
       "4  1.5031 -0.0031  ...     NaN       NaN  0.4800  0.4766  0.1045  99.3032   \n",
       "\n",
       "      586     587     588       589  \n",
       "0     NaN     NaN     NaN       NaN  \n",
       "1  0.0096  0.0201  0.0060  208.2045  \n",
       "2  0.0584  0.0484  0.0148   82.8602  \n",
       "3  0.0202  0.0149  0.0044   73.8432  \n",
       "4  0.0202  0.0149  0.0044   73.8432  \n",
       "\n",
       "[5 rows x 590 columns]"
      ]
     },
     "execution_count": 3,
     "metadata": {},
     "output_type": "execute_result"
    }
   ],
   "source": [
    "df.head()"
   ]
  },
  {
   "cell_type": "markdown",
   "id": "30236cb5",
   "metadata": {},
   "source": [
    "## 数据分析"
   ]
  },
  {
   "cell_type": "code",
   "execution_count": 4,
   "id": "0027d0e3",
   "metadata": {},
   "outputs": [
    {
     "data": {
      "text/plain": [
       "(1567, 590)"
      ]
     },
     "execution_count": 4,
     "metadata": {},
     "output_type": "execute_result"
    }
   ],
   "source": [
    "df.shape"
   ]
  },
  {
   "cell_type": "markdown",
   "id": "0c52f4e0",
   "metadata": {},
   "source": [
    "数据项的维度特别高，具有590个特征"
   ]
  },
  {
   "cell_type": "code",
   "execution_count": 5,
   "id": "7ff2ece9",
   "metadata": {},
   "outputs": [
    {
     "name": "stdout",
     "output_type": "stream",
     "text": [
      "<class 'pandas.core.frame.DataFrame'>\n",
      "RangeIndex: 1567 entries, 0 to 1566\n",
      "Columns: 590 entries, 0 to 589\n",
      "dtypes: float64(590)\n",
      "memory usage: 7.1 MB\n"
     ]
    }
   ],
   "source": [
    "df.info()"
   ]
  },
  {
   "cell_type": "code",
   "execution_count": 6,
   "id": "df465b02",
   "metadata": {},
   "outputs": [
    {
     "data": {
      "text/plain": [
       "157    1429\n",
       "292    1429\n",
       "293    1429\n",
       "158    1429\n",
       "492    1341\n",
       "358    1341\n",
       "85     1341\n",
       "220    1341\n",
       "246    1018\n",
       "109    1018\n",
       "110    1018\n",
       "111    1018\n",
       "518    1018\n",
       "516    1018\n",
       "245    1018\n",
       "244    1018\n",
       "382    1018\n",
       "383    1018\n",
       "384    1018\n",
       "517    1018\n",
       "578     949\n",
       "579     949\n",
       "580     949\n",
       "581     949\n",
       "346     794\n",
       "73      794\n",
       "72      794\n",
       "345     794\n",
       "112     715\n",
       "247     715\n",
       "385     715\n",
       "519     715\n",
       "562     273\n",
       "563     273\n",
       "564     273\n",
       "565     273\n",
       "566     273\n",
       "567     273\n",
       "569     273\n",
       "568     273\n",
       "555     260\n",
       "546     260\n",
       "548     260\n",
       "549     260\n",
       "550     260\n",
       "551     260\n",
       "552     260\n",
       "553     260\n",
       "554     260\n",
       "547     260\n",
       "dtype: int64"
      ]
     },
     "execution_count": 6,
     "metadata": {},
     "output_type": "execute_result"
    }
   ],
   "source": [
    "df.isnull().sum().sort_values(ascending=False)[:50]  #查看空值"
   ]
  },
  {
   "cell_type": "code",
   "execution_count": 7,
   "id": "07392d04",
   "metadata": {},
   "outputs": [
    {
     "data": {
      "text/html": [
       "<div>\n",
       "<style scoped>\n",
       "    .dataframe tbody tr th:only-of-type {\n",
       "        vertical-align: middle;\n",
       "    }\n",
       "\n",
       "    .dataframe tbody tr th {\n",
       "        vertical-align: top;\n",
       "    }\n",
       "\n",
       "    .dataframe thead th {\n",
       "        text-align: right;\n",
       "    }\n",
       "</style>\n",
       "<table border=\"1\" class=\"dataframe\">\n",
       "  <thead>\n",
       "    <tr style=\"text-align: right;\">\n",
       "      <th></th>\n",
       "      <th>0</th>\n",
       "      <th>1</th>\n",
       "    </tr>\n",
       "  </thead>\n",
       "  <tbody>\n",
       "    <tr>\n",
       "      <th>0</th>\n",
       "      <td>-1</td>\n",
       "      <td>19/07/2008 11:55:00</td>\n",
       "    </tr>\n",
       "    <tr>\n",
       "      <th>1</th>\n",
       "      <td>-1</td>\n",
       "      <td>19/07/2008 12:32:00</td>\n",
       "    </tr>\n",
       "    <tr>\n",
       "      <th>2</th>\n",
       "      <td>1</td>\n",
       "      <td>19/07/2008 13:17:00</td>\n",
       "    </tr>\n",
       "    <tr>\n",
       "      <th>3</th>\n",
       "      <td>-1</td>\n",
       "      <td>19/07/2008 14:43:00</td>\n",
       "    </tr>\n",
       "    <tr>\n",
       "      <th>4</th>\n",
       "      <td>-1</td>\n",
       "      <td>19/07/2008 15:22:00</td>\n",
       "    </tr>\n",
       "    <tr>\n",
       "      <th>...</th>\n",
       "      <td>...</td>\n",
       "      <td>...</td>\n",
       "    </tr>\n",
       "    <tr>\n",
       "      <th>1562</th>\n",
       "      <td>-1</td>\n",
       "      <td>16/10/2008 15:13:00</td>\n",
       "    </tr>\n",
       "    <tr>\n",
       "      <th>1563</th>\n",
       "      <td>-1</td>\n",
       "      <td>16/10/2008 20:49:00</td>\n",
       "    </tr>\n",
       "    <tr>\n",
       "      <th>1564</th>\n",
       "      <td>-1</td>\n",
       "      <td>17/10/2008 05:26:00</td>\n",
       "    </tr>\n",
       "    <tr>\n",
       "      <th>1565</th>\n",
       "      <td>-1</td>\n",
       "      <td>17/10/2008 06:01:00</td>\n",
       "    </tr>\n",
       "    <tr>\n",
       "      <th>1566</th>\n",
       "      <td>-1</td>\n",
       "      <td>17/10/2008 06:07:00</td>\n",
       "    </tr>\n",
       "  </tbody>\n",
       "</table>\n",
       "<p>1567 rows × 2 columns</p>\n",
       "</div>"
      ],
      "text/plain": [
       "      0                    1\n",
       "0    -1  19/07/2008 11:55:00\n",
       "1    -1  19/07/2008 12:32:00\n",
       "2     1  19/07/2008 13:17:00\n",
       "3    -1  19/07/2008 14:43:00\n",
       "4    -1  19/07/2008 15:22:00\n",
       "...  ..                  ...\n",
       "1562 -1  16/10/2008 15:13:00\n",
       "1563 -1  16/10/2008 20:49:00\n",
       "1564 -1  17/10/2008 05:26:00\n",
       "1565 -1  17/10/2008 06:01:00\n",
       "1566 -1  17/10/2008 06:07:00\n",
       "\n",
       "[1567 rows x 2 columns]"
      ]
     },
     "execution_count": 7,
     "metadata": {},
     "output_type": "execute_result"
    }
   ],
   "source": [
    "labels_df"
   ]
  },
  {
   "cell_type": "code",
   "execution_count": 8,
   "id": "2864b818",
   "metadata": {},
   "outputs": [
    {
     "data": {
      "text/plain": [
       "0    0\n",
       "1    0\n",
       "dtype: int64"
      ]
     },
     "execution_count": 8,
     "metadata": {},
     "output_type": "execute_result"
    }
   ],
   "source": [
    "labels_df.isnull().sum() "
   ]
  },
  {
   "cell_type": "markdown",
   "id": "7dd0b5af",
   "metadata": {},
   "source": [
    "标签项没有空值"
   ]
  },
  {
   "cell_type": "code",
   "execution_count": 9,
   "id": "1850335f",
   "metadata": {},
   "outputs": [
    {
     "data": {
      "image/png": "[encoded data removed]",
      "text/plain": [
       "<Figure size 900x500 with 1 Axes>"
      ]
     },
     "metadata": {},
     "output_type": "display_data"
    }
   ],
   "source": [
    "# 设置图大小\n",
    "plt.figure(figsize=(9, 5))\n",
    "\n",
    "# 设置图风格\n",
    "plt.style.use('seaborn-darkgrid')\n",
    "\n",
    "# 颜色\n",
    "colors = ['lightskyblue', 'lightcoral']\n",
    "\n",
    "# 开始画饼状图\n",
    "plt.pie(labels_df[0].value_counts(), explode=(0.02, 0.06), labels=[\"Pass\", \"Fail\"], \n",
    "        autopct=\"%0.2f%%\", textprops={'fontsize': 14}, shadow=True, startangle=90, colors=colors)\n",
    "# Pass -> -1\n",
    "# Fail -> 1\n",
    "\n",
    "# 添加标题\n",
    "plt.title('Proportion of Labels', size=13)\n",
    "\n",
    "plt.show()"
   ]
  },
  {
   "cell_type": "markdown",
   "id": "581bdaea",
   "metadata": {},
   "source": [
    "可以看出标签只有两类且两类非常不平衡，-1类占了93.36%，对后续的标签预测会有影响，所以在标签预测阶段需要处理标签不平衡问题。"
   ]
  },
  {
   "cell_type": "markdown",
   "id": "55dab319",
   "metadata": {},
   "source": [
    "## 数据预处理"
   ]
  },
  {
   "cell_type": "markdown",
   "id": "55c12067",
   "metadata": {},
   "source": [
    "###### 1、特征选择"
   ]
  },
  {
   "cell_type": "code",
   "execution_count": 10,
   "id": "9d2f756a",
   "metadata": {},
   "outputs": [],
   "source": [
    "#删除空值数大于900的特征项\n",
    "df.drop(columns=df.loc[:,df.isna().sum() > 900].columns,inplace=True)\n",
    "# 删除时间列\n",
    "labels_df.drop(columns=[1],inplace=True)"
   ]
  },
  {
   "cell_type": "code",
   "execution_count": 11,
   "id": "f806e23e",
   "metadata": {},
   "outputs": [
    {
     "data": {
      "text/plain": [
       "(1567, 566)"
      ]
     },
     "execution_count": 11,
     "metadata": {},
     "output_type": "execute_result"
    }
   ],
   "source": [
    "df.shape"
   ]
  },
  {
   "cell_type": "code",
   "execution_count": 12,
   "id": "1167fd3b",
   "metadata": {},
   "outputs": [],
   "source": [
    "# 将标签转化为1，0(pass->1,fail->0)\n",
    "labels_df = labels_df.replace(to_replace=[-1, 1], value=[1, 0])\n"
   ]
  },
  {
   "cell_type": "code",
   "execution_count": 13,
   "id": "e95cb284",
   "metadata": {},
   "outputs": [
    {
     "data": {
      "text/html": [
       "<div>\n",
       "<style scoped>\n",
       "    .dataframe tbody tr th:only-of-type {\n",
       "        vertical-align: middle;\n",
       "    }\n",
       "\n",
       "    .dataframe tbody tr th {\n",
       "        vertical-align: top;\n",
       "    }\n",
       "\n",
       "    .dataframe thead th {\n",
       "        text-align: right;\n",
       "    }\n",
       "</style>\n",
       "<table border=\"1\" class=\"dataframe\">\n",
       "  <thead>\n",
       "    <tr style=\"text-align: right;\">\n",
       "      <th></th>\n",
       "      <th>0</th>\n",
       "    </tr>\n",
       "  </thead>\n",
       "  <tbody>\n",
       "    <tr>\n",
       "      <th>0</th>\n",
       "      <td>1</td>\n",
       "    </tr>\n",
       "    <tr>\n",
       "      <th>1</th>\n",
       "      <td>1</td>\n",
       "    </tr>\n",
       "    <tr>\n",
       "      <th>2</th>\n",
       "      <td>0</td>\n",
       "    </tr>\n",
       "    <tr>\n",
       "      <th>3</th>\n",
       "      <td>1</td>\n",
       "    </tr>\n",
       "    <tr>\n",
       "      <th>4</th>\n",
       "      <td>1</td>\n",
       "    </tr>\n",
       "    <tr>\n",
       "      <th>...</th>\n",
       "      <td>...</td>\n",
       "    </tr>\n",
       "    <tr>\n",
       "      <th>1562</th>\n",
       "      <td>1</td>\n",
       "    </tr>\n",
       "    <tr>\n",
       "      <th>1563</th>\n",
       "      <td>1</td>\n",
       "    </tr>\n",
       "    <tr>\n",
       "      <th>1564</th>\n",
       "      <td>1</td>\n",
       "    </tr>\n",
       "    <tr>\n",
       "      <th>1565</th>\n",
       "      <td>1</td>\n",
       "    </tr>\n",
       "    <tr>\n",
       "      <th>1566</th>\n",
       "      <td>1</td>\n",
       "    </tr>\n",
       "  </tbody>\n",
       "</table>\n",
       "<p>1567 rows × 1 columns</p>\n",
       "</div>"
      ],
      "text/plain": [
       "      0\n",
       "0     1\n",
       "1     1\n",
       "2     0\n",
       "3     1\n",
       "4     1\n",
       "...  ..\n",
       "1562  1\n",
       "1563  1\n",
       "1564  1\n",
       "1565  1\n",
       "1566  1\n",
       "\n",
       "[1567 rows x 1 columns]"
      ]
     },
     "execution_count": 13,
     "metadata": {},
     "output_type": "execute_result"
    }
   ],
   "source": [
    "labels_df"
   ]
  },
  {
   "cell_type": "markdown",
   "id": "8548a446",
   "metadata": {},
   "source": [
    "###### 2、填补空缺值"
   ]
  },
  {
   "cell_type": "code",
   "execution_count": 14,
   "id": "7766aa27",
   "metadata": {},
   "outputs": [],
   "source": [
    "# KNNImputer从练集中找到最近邻的平均值对缺失值进行估算，如果两个样本都没有丢失的特征很接近，那么这两个样本就是相近的。\n",
    "imputer = KNNImputer()\n",
    "df = imputer.fit_transform(df)"
   ]
  },
  {
   "cell_type": "code",
   "execution_count": 15,
   "id": "593c557f",
   "metadata": {},
   "outputs": [],
   "source": [
    "df_nona = pd.DataFrame(df)"
   ]
  },
  {
   "cell_type": "code",
   "execution_count": 16,
   "id": "4df3c9c5",
   "metadata": {},
   "outputs": [
    {
     "data": {
      "text/plain": [
       "0      0\n",
       "1      0\n",
       "2      0\n",
       "3      0\n",
       "4      0\n",
       "      ..\n",
       "561    0\n",
       "562    0\n",
       "563    0\n",
       "564    0\n",
       "565    0\n",
       "Length: 566, dtype: int64"
      ]
     },
     "execution_count": 16,
     "metadata": {},
     "output_type": "execute_result"
    }
   ],
   "source": [
    "df_nona.isna().sum()"
   ]
  },
  {
   "cell_type": "code",
   "execution_count": 17,
   "id": "e9e271fa",
   "metadata": {},
   "outputs": [],
   "source": [
    "# 因为数据极度不平衡采用分层抽样划分训练集和测试集\n",
    "X_train,X_test,Y_train,Y_test=train_test_split(df_nona,labels_df,\n",
    "                                               test_size=0.25,\n",
    "                                               random_state=42,\n",
    "                                               stratify=labels_df)\n"
   ]
  },
  {
   "cell_type": "code",
   "execution_count": 18,
   "id": "8a544bc8",
   "metadata": {},
   "outputs": [
    {
     "data": {
      "text/html": [
       "<div>\n",
       "<style scoped>\n",
       "    .dataframe tbody tr th:only-of-type {\n",
       "        vertical-align: middle;\n",
       "    }\n",
       "\n",
       "    .dataframe tbody tr th {\n",
       "        vertical-align: top;\n",
       "    }\n",
       "\n",
       "    .dataframe thead th {\n",
       "        text-align: right;\n",
       "    }\n",
       "</style>\n",
       "<table border=\"1\" class=\"dataframe\">\n",
       "  <thead>\n",
       "    <tr style=\"text-align: right;\">\n",
       "      <th></th>\n",
       "      <th>0</th>\n",
       "      <th>1</th>\n",
       "      <th>2</th>\n",
       "      <th>3</th>\n",
       "      <th>4</th>\n",
       "      <th>5</th>\n",
       "      <th>6</th>\n",
       "      <th>7</th>\n",
       "      <th>8</th>\n",
       "      <th>9</th>\n",
       "      <th>...</th>\n",
       "      <th>556</th>\n",
       "      <th>557</th>\n",
       "      <th>558</th>\n",
       "      <th>559</th>\n",
       "      <th>560</th>\n",
       "      <th>561</th>\n",
       "      <th>562</th>\n",
       "      <th>563</th>\n",
       "      <th>564</th>\n",
       "      <th>565</th>\n",
       "    </tr>\n",
       "  </thead>\n",
       "  <tbody>\n",
       "    <tr>\n",
       "      <th>0</th>\n",
       "      <td>-2.206237</td>\n",
       "      <td>-0.402069</td>\n",
       "      <td>0.051049</td>\n",
       "      <td>-0.844972</td>\n",
       "      <td>-0.055870</td>\n",
       "      <td>0.0</td>\n",
       "      <td>0.535895</td>\n",
       "      <td>0.114948</td>\n",
       "      <td>0.485111</td>\n",
       "      <td>-0.538054</td>\n",
       "      <td>...</td>\n",
       "      <td>-0.278727</td>\n",
       "      <td>0.112431</td>\n",
       "      <td>-0.943436</td>\n",
       "      <td>-1.041363</td>\n",
       "      <td>-0.933438</td>\n",
       "      <td>-1.031845</td>\n",
       "      <td>1.148652</td>\n",
       "      <td>-0.584902</td>\n",
       "      <td>-0.746381</td>\n",
       "      <td>-0.769996</td>\n",
       "    </tr>\n",
       "    <tr>\n",
       "      <th>1</th>\n",
       "      <td>0.825105</td>\n",
       "      <td>-0.958820</td>\n",
       "      <td>0.522543</td>\n",
       "      <td>-0.635766</td>\n",
       "      <td>-0.058830</td>\n",
       "      <td>0.0</td>\n",
       "      <td>-0.158359</td>\n",
       "      <td>-0.029123</td>\n",
       "      <td>0.100437</td>\n",
       "      <td>0.170711</td>\n",
       "      <td>...</td>\n",
       "      <td>-0.244442</td>\n",
       "      <td>0.453994</td>\n",
       "      <td>0.187907</td>\n",
       "      <td>-0.929590</td>\n",
       "      <td>-1.034239</td>\n",
       "      <td>-0.938746</td>\n",
       "      <td>-0.160399</td>\n",
       "      <td>0.251811</td>\n",
       "      <td>-0.023107</td>\n",
       "      <td>-0.043392</td>\n",
       "    </tr>\n",
       "    <tr>\n",
       "      <th>2</th>\n",
       "      <td>-0.202223</td>\n",
       "      <td>-1.058060</td>\n",
       "      <td>-0.034815</td>\n",
       "      <td>-0.615810</td>\n",
       "      <td>-0.050270</td>\n",
       "      <td>0.0</td>\n",
       "      <td>0.470182</td>\n",
       "      <td>-0.129972</td>\n",
       "      <td>0.062233</td>\n",
       "      <td>0.542637</td>\n",
       "      <td>...</td>\n",
       "      <td>-0.249637</td>\n",
       "      <td>-0.337620</td>\n",
       "      <td>-0.637668</td>\n",
       "      <td>-0.575641</td>\n",
       "      <td>-0.429433</td>\n",
       "      <td>-0.572700</td>\n",
       "      <td>-0.974360</td>\n",
       "      <td>-0.015937</td>\n",
       "      <td>-0.229757</td>\n",
       "      <td>0.833686</td>\n",
       "    </tr>\n",
       "    <tr>\n",
       "      <th>3</th>\n",
       "      <td>-1.405140</td>\n",
       "      <td>0.464158</td>\n",
       "      <td>0.378929</td>\n",
       "      <td>0.804573</td>\n",
       "      <td>-0.056256</td>\n",
       "      <td>0.0</td>\n",
       "      <td>-1.382416</td>\n",
       "      <td>0.021302</td>\n",
       "      <td>0.552297</td>\n",
       "      <td>-0.755596</td>\n",
       "      <td>...</td>\n",
       "      <td>4.059614</td>\n",
       "      <td>3.673334</td>\n",
       "      <td>-0.821129</td>\n",
       "      <td>-0.612899</td>\n",
       "      <td>-0.832637</td>\n",
       "      <td>-0.610052</td>\n",
       "      <td>-2.233062</td>\n",
       "      <td>-0.997680</td>\n",
       "      <td>-1.021914</td>\n",
       "      <td>0.258584</td>\n",
       "    </tr>\n",
       "    <tr>\n",
       "      <th>4</th>\n",
       "      <td>0.540598</td>\n",
       "      <td>-1.403311</td>\n",
       "      <td>1.479968</td>\n",
       "      <td>0.851532</td>\n",
       "      <td>-0.051847</td>\n",
       "      <td>0.0</td>\n",
       "      <td>-1.761861</td>\n",
       "      <td>-0.014716</td>\n",
       "      <td>-1.070713</td>\n",
       "      <td>2.409284</td>\n",
       "      <td>...</td>\n",
       "      <td>-0.240967</td>\n",
       "      <td>-0.175955</td>\n",
       "      <td>0.157330</td>\n",
       "      <td>-0.538384</td>\n",
       "      <td>-0.731836</td>\n",
       "      <td>-0.548982</td>\n",
       "      <td>0.578040</td>\n",
       "      <td>-0.662995</td>\n",
       "      <td>-0.815264</td>\n",
       "      <td>-0.709549</td>\n",
       "    </tr>\n",
       "    <tr>\n",
       "      <th>...</th>\n",
       "      <td>...</td>\n",
       "      <td>...</td>\n",
       "      <td>...</td>\n",
       "      <td>...</td>\n",
       "      <td>...</td>\n",
       "      <td>...</td>\n",
       "      <td>...</td>\n",
       "      <td>...</td>\n",
       "      <td>...</td>\n",
       "      <td>...</td>\n",
       "      <td>...</td>\n",
       "      <td>...</td>\n",
       "      <td>...</td>\n",
       "      <td>...</td>\n",
       "      <td>...</td>\n",
       "      <td>...</td>\n",
       "      <td>...</td>\n",
       "      <td>...</td>\n",
       "      <td>...</td>\n",
       "      <td>...</td>\n",
       "      <td>...</td>\n",
       "    </tr>\n",
       "    <tr>\n",
       "      <th>387</th>\n",
       "      <td>0.254820</td>\n",
       "      <td>-0.067689</td>\n",
       "      <td>-0.605851</td>\n",
       "      <td>-0.661717</td>\n",
       "      <td>-0.049517</td>\n",
       "      <td>0.0</td>\n",
       "      <td>0.553396</td>\n",
       "      <td>0.078930</td>\n",
       "      <td>0.897450</td>\n",
       "      <td>-0.187180</td>\n",
       "      <td>...</td>\n",
       "      <td>-0.227607</td>\n",
       "      <td>-0.038613</td>\n",
       "      <td>1.288674</td>\n",
       "      <td>0.113627</td>\n",
       "      <td>0.477776</td>\n",
       "      <td>0.090384</td>\n",
       "      <td>-0.840098</td>\n",
       "      <td>1.222397</td>\n",
       "      <td>1.010140</td>\n",
       "      <td>1.675814</td>\n",
       "    </tr>\n",
       "    <tr>\n",
       "      <th>388</th>\n",
       "      <td>-0.469552</td>\n",
       "      <td>-0.151505</td>\n",
       "      <td>1.273287</td>\n",
       "      <td>-0.335765</td>\n",
       "      <td>-0.049855</td>\n",
       "      <td>0.0</td>\n",
       "      <td>0.367506</td>\n",
       "      <td>0.093337</td>\n",
       "      <td>0.225588</td>\n",
       "      <td>0.198781</td>\n",
       "      <td>...</td>\n",
       "      <td>-0.254800</td>\n",
       "      <td>-0.520162</td>\n",
       "      <td>-1.983049</td>\n",
       "      <td>1.380389</td>\n",
       "      <td>1.888991</td>\n",
       "      <td>1.433549</td>\n",
       "      <td>-0.118442</td>\n",
       "      <td>-0.004781</td>\n",
       "      <td>0.114659</td>\n",
       "      <td>-0.197615</td>\n",
       "    </tr>\n",
       "    <tr>\n",
       "      <th>389</th>\n",
       "      <td>0.200870</td>\n",
       "      <td>-0.566414</td>\n",
       "      <td>-0.214144</td>\n",
       "      <td>-0.642634</td>\n",
       "      <td>-0.051510</td>\n",
       "      <td>0.0</td>\n",
       "      <td>0.210544</td>\n",
       "      <td>-0.050733</td>\n",
       "      <td>0.720922</td>\n",
       "      <td>0.177728</td>\n",
       "      <td>...</td>\n",
       "      <td>4.025518</td>\n",
       "      <td>2.759734</td>\n",
       "      <td>-1.799588</td>\n",
       "      <td>0.430317</td>\n",
       "      <td>1.485787</td>\n",
       "      <td>0.466142</td>\n",
       "      <td>0.192038</td>\n",
       "      <td>0.162561</td>\n",
       "      <td>0.321308</td>\n",
       "      <td>-0.276238</td>\n",
       "    </tr>\n",
       "    <tr>\n",
       "      <th>390</th>\n",
       "      <td>0.948908</td>\n",
       "      <td>-0.354535</td>\n",
       "      <td>0.998595</td>\n",
       "      <td>0.092881</td>\n",
       "      <td>-0.058971</td>\n",
       "      <td>0.0</td>\n",
       "      <td>0.220363</td>\n",
       "      <td>0.273426</td>\n",
       "      <td>0.479842</td>\n",
       "      <td>-0.032796</td>\n",
       "      <td>...</td>\n",
       "      <td>-0.281013</td>\n",
       "      <td>-0.440047</td>\n",
       "      <td>0.554829</td>\n",
       "      <td>1.380389</td>\n",
       "      <td>1.788190</td>\n",
       "      <td>1.370331</td>\n",
       "      <td>-0.924012</td>\n",
       "      <td>0.374529</td>\n",
       "      <td>0.217984</td>\n",
       "      <td>1.099057</td>\n",
       "    </tr>\n",
       "    <tr>\n",
       "      <th>391</th>\n",
       "      <td>3.329422</td>\n",
       "      <td>-0.930882</td>\n",
       "      <td>-0.394609</td>\n",
       "      <td>-0.255537</td>\n",
       "      <td>-0.035600</td>\n",
       "      <td>0.0</td>\n",
       "      <td>1.046043</td>\n",
       "      <td>0.208594</td>\n",
       "      <td>1.413863</td>\n",
       "      <td>-0.067883</td>\n",
       "      <td>...</td>\n",
       "      <td>4.208384</td>\n",
       "      <td>5.402871</td>\n",
       "      <td>0.126754</td>\n",
       "      <td>-0.258951</td>\n",
       "      <td>-0.429433</td>\n",
       "      <td>-0.264830</td>\n",
       "      <td>0.200429</td>\n",
       "      <td>-1.153867</td>\n",
       "      <td>-1.021914</td>\n",
       "      <td>-0.831484</td>\n",
       "    </tr>\n",
       "  </tbody>\n",
       "</table>\n",
       "<p>392 rows × 566 columns</p>\n",
       "</div>"
      ],
      "text/plain": [
       "          0         1         2         3         4    5         6    \\\n",
       "0   -2.206237 -0.402069  0.051049 -0.844972 -0.055870  0.0  0.535895   \n",
       "1    0.825105 -0.958820  0.522543 -0.635766 -0.058830  0.0 -0.158359   \n",
       "2   -0.202223 -1.058060 -0.034815 -0.615810 -0.050270  0.0  0.470182   \n",
       "3   -1.405140  0.464158  0.378929  0.804573 -0.056256  0.0 -1.382416   \n",
       "4    0.540598 -1.403311  1.479968  0.851532 -0.051847  0.0 -1.761861   \n",
       "..        ...       ...       ...       ...       ...  ...       ...   \n",
       "387  0.254820 -0.067689 -0.605851 -0.661717 -0.049517  0.0  0.553396   \n",
       "388 -0.469552 -0.151505  1.273287 -0.335765 -0.049855  0.0  0.367506   \n",
       "389  0.200870 -0.566414 -0.214144 -0.642634 -0.051510  0.0  0.210544   \n",
       "390  0.948908 -0.354535  0.998595  0.092881 -0.058971  0.0  0.220363   \n",
       "391  3.329422 -0.930882 -0.394609 -0.255537 -0.035600  0.0  1.046043   \n",
       "\n",
       "          7         8         9    ...       556       557       558  \\\n",
       "0    0.114948  0.485111 -0.538054  ... -0.278727  0.112431 -0.943436   \n",
       "1   -0.029123  0.100437  0.170711  ... -0.244442  0.453994  0.187907   \n",
       "2   -0.129972  0.062233  0.542637  ... -0.249637 -0.337620 -0.637668   \n",
       "3    0.021302  0.552297 -0.755596  ...  4.059614  3.673334 -0.821129   \n",
       "4   -0.014716 -1.070713  2.409284  ... -0.240967 -0.175955  0.157330   \n",
       "..        ...       ...       ...  ...       ...       ...       ...   \n",
       "387  0.078930  0.897450 -0.187180  ... -0.227607 -0.038613  1.288674   \n",
       "388  0.093337  0.225588  0.198781  ... -0.254800 -0.520162 -1.983049   \n",
       "389 -0.050733  0.720922  0.177728  ...  4.025518  2.759734 -1.799588   \n",
       "390  0.273426  0.479842 -0.032796  ... -0.281013 -0.440047  0.554829   \n",
       "391  0.208594  1.413863 -0.067883  ...  4.208384  5.402871  0.126754   \n",
       "\n",
       "          559       560       561       562       563       564       565  \n",
       "0   -1.041363 -0.933438 -1.031845  1.148652 -0.584902 -0.746381 -0.769996  \n",
       "1   -0.929590 -1.034239 -0.938746 -0.160399  0.251811 -0.023107 -0.043392  \n",
       "2   -0.575641 -0.429433 -0.572700 -0.974360 -0.015937 -0.229757  0.833686  \n",
       "3   -0.612899 -0.832637 -0.610052 -2.233062 -0.997680 -1.021914  0.258584  \n",
       "4   -0.538384 -0.731836 -0.548982  0.578040 -0.662995 -0.815264 -0.709549  \n",
       "..        ...       ...       ...       ...       ...       ...       ...  \n",
       "387  0.113627  0.477776  0.090384 -0.840098  1.222397  1.010140  1.675814  \n",
       "388  1.380389  1.888991  1.433549 -0.118442 -0.004781  0.114659 -0.197615  \n",
       "389  0.430317  1.485787  0.466142  0.192038  0.162561  0.321308 -0.276238  \n",
       "390  1.380389  1.788190  1.370331 -0.924012  0.374529  0.217984  1.099057  \n",
       "391 -0.258951 -0.429433 -0.264830  0.200429 -1.153867 -1.021914 -0.831484  \n",
       "\n",
       "[392 rows x 566 columns]"
      ]
     },
     "execution_count": 18,
     "metadata": {},
     "output_type": "execute_result"
    }
   ],
   "source": [
    "# 标准化\n",
    "X_train = pd.DataFrame(StandardScaler().fit_transform(X_train))\n",
    "X_test = pd.DataFrame(StandardScaler().fit_transform(X_test))\n",
    "X_test"
   ]
  },
  {
   "cell_type": "markdown",
   "id": "2daa7d3b",
   "metadata": {},
   "source": [
    "## 逻辑回归"
   ]
  },
  {
   "cell_type": "code",
   "execution_count": 19,
   "id": "d7e9992c",
   "metadata": {},
   "outputs": [],
   "source": [
    "logreg = LogisticRegression(random_state = 42)\n",
    "Y_pred = logreg.fit(X_train,Y_train).predict(X_test)"
   ]
  },
  {
   "cell_type": "code",
   "execution_count": 20,
   "id": "0f3da5ae",
   "metadata": {},
   "outputs": [
    {
     "data": {
      "image/png": "[encoded data removed]",
      "text/plain": [
       "<Figure size 250x250 with 1 Axes>"
      ]
     },
     "metadata": {},
     "output_type": "display_data"
    }
   ],
   "source": [
    "# 混淆矩阵\n",
    "confmat = confusion_matrix(Y_test,Y_pred)\n",
    "fig, ax = plt.subplots(figsize=(2.5, 2.5))\n",
    "ax.matshow(confmat, cmap=plt.cm.Blues, alpha=0.3)\n",
    "for i in range(confmat.shape[0]):\n",
    "    for j in range(confmat.shape[1]):\n",
    "        ax.text(x=j, y=i, s=confmat[i, j], va='center', ha='center')\n",
    "plt.xlabel('predicted label')\n",
    "plt.ylabel('true label')\n",
    "plt.show()"
   ]
  },
  {
   "cell_type": "code",
   "execution_count": 21,
   "id": "16390d39",
   "metadata": {},
   "outputs": [
    {
     "name": "stdout",
     "output_type": "stream",
     "text": [
      "precision:0.549\n",
      "recall:0.559\n",
      "F1:0.553\n"
     ]
    }
   ],
   "source": [
    "print('precision:%.3f' % precision_score(y_true=Y_test, y_pred=Y_pred,average= 'macro'))\n",
    "print('recall:%.3f' % recall_score(y_true=Y_test, y_pred=Y_pred,average= 'macro'))\n",
    "print('F1:%.3f' % f1_score(y_true=Y_test, y_pred=Y_pred,average= 'macro'))"
   ]
  },
  {
   "cell_type": "code",
   "execution_count": 22,
   "id": "d0990c4f",
   "metadata": {},
   "outputs": [
    {
     "name": "stdout",
     "output_type": "stream",
     "text": [
      "              precision    recall  f1-score   support\n",
      "\n",
      "           0      0.156     0.192     0.172        26\n",
      "           1      0.942     0.926     0.934       366\n",
      "\n",
      "    accuracy                          0.878       392\n",
      "   macro avg      0.549     0.559     0.553       392\n",
      "weighted avg      0.890     0.878     0.883       392\n",
      "\n"
     ]
    }
   ],
   "source": [
    "from sklearn.metrics import classification_report\n",
    "print(classification_report(Y_test, Y_pred, digits = 3))"
   ]
  },
  {
   "cell_type": "markdown",
   "id": "890dcbb2",
   "metadata": {},
   "source": [
    "## 随机生成树"
   ]
  },
  {
   "cell_type": "code",
   "execution_count": 51,
   "id": "eb06dcab",
   "metadata": {
    "scrolled": true
   },
   "outputs": [
    {
     "data": {
      "image/png": "[encoded data removed]",
      "text/plain": [
       "<Figure size 2000x500 with 1 Axes>"
      ]
     },
     "metadata": {},
     "output_type": "display_data"
    }
   ],
   "source": [
    "# max_depth学习曲线\n",
    "precision_list = []\n",
    "recall_list = []\n",
    "f1_list = []\n",
    "for i in range(10):\n",
    "    rfc = RandomForestClassifier(n_estimators=3, random_state=42, n_jobs=-1, max_depth=i+1)\n",
    "    Y_pred = rfc.fit(X_train,Y_train).predict(X_test)\n",
    "    precision_list.append(precision_score(y_true=Y_test, y_pred=Y_pred,average= 'macro'))\n",
    "    recall_list.append(recall_score(y_true=Y_test, y_pred=Y_pred,average= 'macro'))\n",
    "    f1_list.append(f1_score(y_true=Y_test, y_pred=Y_pred,average= 'macro'))\n",
    "plt.figure(figsize=[20,5])\n",
    "plt.plot(range(1,11),precision_list)\n",
    "plt.plot(range(1,11),recall_list)\n",
    "plt.plot(range(1,11),f1_list)\n",
    "plt.show()"
   ]
  },
  {
   "cell_type": "code",
   "execution_count": 37,
   "id": "418d598d",
   "metadata": {},
   "outputs": [],
   "source": [
    "rfc = RandomForestClassifier(n_estimators=3\n",
    "                             ,random_state=42\n",
    "                             ,max_depth=5\n",
    "                             )\n",
    "Y_pred = rfc.fit(X_train,Y_train).predict(X_test)\n"
   ]
  },
  {
   "cell_type": "code",
   "execution_count": 41,
   "id": "44d480f0",
   "metadata": {},
   "outputs": [
    {
     "data": {
      "image/png": "[encoded data removed]",
      "text/plain": [
       "<Figure size 250x250 with 1 Axes>"
      ]
     },
     "metadata": {},
     "output_type": "display_data"
    }
   ],
   "source": [
    "# 混淆矩阵\n",
    "confmat = confusion_matrix(Y_test,Y_pred)\n",
    "fig, ax = plt.subplots(figsize=(2.5, 2.5))\n",
    "ax.matshow(confmat, cmap=plt.cm.Blues, alpha=0.3)\n",
    "for i in range(confmat.shape[0]):\n",
    "    for j in range(confmat.shape[1]):\n",
    "        ax.text(x=j, y=i, s=confmat[i, j], va='center', ha='center')\n",
    "plt.xlabel('predicted label')\n",
    "plt.ylabel('true label')\n",
    "plt.show()"
   ]
  },
  {
   "cell_type": "code",
   "execution_count": 39,
   "id": "ab630df5",
   "metadata": {},
   "outputs": [
    {
     "name": "stdout",
     "output_type": "stream",
     "text": [
      "              precision    recall  f1-score   support\n",
      "\n",
      "           0      0.214     0.115     0.150        26\n",
      "           1      0.939     0.970     0.954       366\n",
      "\n",
      "    accuracy                          0.913       392\n",
      "   macro avg      0.577     0.543     0.552       392\n",
      "weighted avg      0.891     0.913     0.901       392\n",
      "\n"
     ]
    }
   ],
   "source": [
    "print(classification_report(Y_test, Y_pred, digits = 3))"
   ]
  },
  {
   "cell_type": "code",
   "execution_count": 40,
   "id": "996c0785",
   "metadata": {},
   "outputs": [
    {
     "name": "stdout",
     "output_type": "stream",
     "text": [
      "0.5521505376344086\n"
     ]
    }
   ],
   "source": [
    "print(f1_score(y_true=Y_test, y_pred=Y_pred,average='macro'))"
   ]
  },
  {
   "cell_type": "markdown",
   "id": "b02a4e93",
   "metadata": {},
   "source": [
    "## 朴素贝叶斯"
   ]
  },
  {
   "cell_type": "code",
   "execution_count": 42,
   "id": "6b441536",
   "metadata": {},
   "outputs": [
    {
     "name": "stdout",
     "output_type": "stream",
     "text": [
      "              precision    recall  f1-score   support\n",
      "\n",
      "           0      0.167     0.385     0.233        26\n",
      "           1      0.952     0.863     0.905       366\n",
      "\n",
      "    accuracy                          0.832       392\n",
      "   macro avg      0.559     0.624     0.569       392\n",
      "weighted avg      0.900     0.832     0.861       392\n",
      "\n"
     ]
    }
   ],
   "source": [
    "nbfit = BernoulliNB()\n",
    "Y_pred = nbfit.fit(X_train, Y_train).predict(X_test)\n",
    "print(classification_report(Y_test, Y_pred, digits = 3))"
   ]
  },
  {
   "cell_type": "code",
   "execution_count": 43,
   "id": "64a7fcdf",
   "metadata": {},
   "outputs": [
    {
     "data": {
      "image/png": "[encoded data removed]",
      "text/plain": [
       "<Figure size 250x250 with 1 Axes>"
      ]
     },
     "metadata": {},
     "output_type": "display_data"
    }
   ],
   "source": [
    "# 混淆矩阵\n",
    "confmat = confusion_matrix(Y_test,Y_pred)\n",
    "fig, ax = plt.subplots(figsize=(2.5, 2.5))\n",
    "ax.matshow(confmat, cmap=plt.cm.Blues, alpha=0.3)\n",
    "for i in range(confmat.shape[0]):\n",
    "    for j in range(confmat.shape[1]):\n",
    "        ax.text(x=j, y=i, s=confmat[i, j], va='center', ha='center')\n",
    "plt.xlabel('predicted label')\n",
    "plt.ylabel('true label')\n",
    "plt.show()"
   ]
  },
  {
   "cell_type": "markdown",
   "id": "58dfd744",
   "metadata": {},
   "source": [
    "## 聚类"
   ]
  },
  {
   "cell_type": "code",
   "execution_count": 44,
   "id": "ad0ef502",
   "metadata": {},
   "outputs": [],
   "source": [
    "from sklearn.cluster import KMeans\n",
    "from sklearn.metrics import silhouette_score\n",
    "from sklearn.metrics import silhouette_samples"
   ]
  },
  {
   "cell_type": "code",
   "execution_count": 45,
   "id": "9ed8bdc9",
   "metadata": {},
   "outputs": [
    {
     "data": {
      "text/html": [
       "<div>\n",
       "<style scoped>\n",
       "    .dataframe tbody tr th:only-of-type {\n",
       "        vertical-align: middle;\n",
       "    }\n",
       "\n",
       "    .dataframe tbody tr th {\n",
       "        vertical-align: top;\n",
       "    }\n",
       "\n",
       "    .dataframe thead th {\n",
       "        text-align: right;\n",
       "    }\n",
       "</style>\n",
       "<table border=\"1\" class=\"dataframe\">\n",
       "  <thead>\n",
       "    <tr style=\"text-align: right;\">\n",
       "      <th></th>\n",
       "      <th>0</th>\n",
       "      <th>1</th>\n",
       "      <th>2</th>\n",
       "      <th>3</th>\n",
       "      <th>4</th>\n",
       "      <th>5</th>\n",
       "      <th>6</th>\n",
       "      <th>7</th>\n",
       "      <th>8</th>\n",
       "      <th>9</th>\n",
       "      <th>...</th>\n",
       "      <th>556</th>\n",
       "      <th>557</th>\n",
       "      <th>558</th>\n",
       "      <th>559</th>\n",
       "      <th>560</th>\n",
       "      <th>561</th>\n",
       "      <th>562</th>\n",
       "      <th>563</th>\n",
       "      <th>564</th>\n",
       "      <th>565</th>\n",
       "    </tr>\n",
       "  </thead>\n",
       "  <tbody>\n",
       "    <tr>\n",
       "      <th>0</th>\n",
       "      <td>0.226301</td>\n",
       "      <td>0.849728</td>\n",
       "      <td>-0.437931</td>\n",
       "      <td>0.031923</td>\n",
       "      <td>-0.050123</td>\n",
       "      <td>0.0</td>\n",
       "      <td>-0.559986</td>\n",
       "      <td>0.255040</td>\n",
       "      <td>0.509872</td>\n",
       "      <td>1.128455</td>\n",
       "      <td>...</td>\n",
       "      <td>-0.229797</td>\n",
       "      <td>-0.135520</td>\n",
       "      <td>0.118476</td>\n",
       "      <td>-0.204765</td>\n",
       "      <td>-0.093106</td>\n",
       "      <td>-0.196991</td>\n",
       "      <td>-0.164944</td>\n",
       "      <td>-0.433115</td>\n",
       "      <td>-0.315062</td>\n",
       "      <td>-0.363124</td>\n",
       "    </tr>\n",
       "    <tr>\n",
       "      <th>1</th>\n",
       "      <td>1.108313</td>\n",
       "      <td>-0.382754</td>\n",
       "      <td>1.014575</td>\n",
       "      <td>0.151122</td>\n",
       "      <td>-0.059587</td>\n",
       "      <td>0.0</td>\n",
       "      <td>0.200559</td>\n",
       "      <td>0.305366</td>\n",
       "      <td>0.457047</td>\n",
       "      <td>0.022693</td>\n",
       "      <td>...</td>\n",
       "      <td>-0.263493</td>\n",
       "      <td>-0.460054</td>\n",
       "      <td>0.529965</td>\n",
       "      <td>0.406796</td>\n",
       "      <td>0.444803</td>\n",
       "      <td>0.385174</td>\n",
       "      <td>-0.960061</td>\n",
       "      <td>0.412105</td>\n",
       "      <td>0.250318</td>\n",
       "      <td>1.156872</td>\n",
       "    </tr>\n",
       "    <tr>\n",
       "      <th>2</th>\n",
       "      <td>-1.110931</td>\n",
       "      <td>0.799112</td>\n",
       "      <td>-0.482920</td>\n",
       "      <td>0.682872</td>\n",
       "      <td>-0.047449</td>\n",
       "      <td>0.0</td>\n",
       "      <td>-0.901749</td>\n",
       "      <td>0.244975</td>\n",
       "      <td>-0.260840</td>\n",
       "      <td>0.327275</td>\n",
       "      <td>...</td>\n",
       "      <td>-0.205046</td>\n",
       "      <td>-0.590505</td>\n",
       "      <td>-1.262951</td>\n",
       "      <td>0.022386</td>\n",
       "      <td>0.014476</td>\n",
       "      <td>0.029952</td>\n",
       "      <td>2.991230</td>\n",
       "      <td>3.627123</td>\n",
       "      <td>3.321515</td>\n",
       "      <td>-0.178909</td>\n",
       "    </tr>\n",
       "    <tr>\n",
       "      <th>3</th>\n",
       "      <td>-0.347789</td>\n",
       "      <td>-0.198742</td>\n",
       "      <td>-0.053444</td>\n",
       "      <td>-1.105593</td>\n",
       "      <td>-0.050833</td>\n",
       "      <td>0.0</td>\n",
       "      <td>0.505003</td>\n",
       "      <td>0.003412</td>\n",
       "      <td>0.343268</td>\n",
       "      <td>-0.765245</td>\n",
       "      <td>...</td>\n",
       "      <td>-0.224950</td>\n",
       "      <td>-0.645708</td>\n",
       "      <td>-0.322405</td>\n",
       "      <td>-0.292131</td>\n",
       "      <td>-0.362061</td>\n",
       "      <td>-0.283293</td>\n",
       "      <td>-0.101789</td>\n",
       "      <td>-0.178640</td>\n",
       "      <td>-0.308082</td>\n",
       "      <td>-0.275002</td>\n",
       "    </tr>\n",
       "    <tr>\n",
       "      <th>4</th>\n",
       "      <td>0.244118</td>\n",
       "      <td>0.087624</td>\n",
       "      <td>1.114763</td>\n",
       "      <td>-0.160047</td>\n",
       "      <td>-0.047035</td>\n",
       "      <td>0.0</td>\n",
       "      <td>-0.112438</td>\n",
       "      <td>0.184584</td>\n",
       "      <td>0.545089</td>\n",
       "      <td>-0.149461</td>\n",
       "      <td>...</td>\n",
       "      <td>-0.230791</td>\n",
       "      <td>-0.454486</td>\n",
       "      <td>-5.906897</td>\n",
       "      <td>26.867038</td>\n",
       "      <td>27.071310</td>\n",
       "      <td>26.913163</td>\n",
       "      <td>-0.101789</td>\n",
       "      <td>-0.178640</td>\n",
       "      <td>-0.308082</td>\n",
       "      <td>-0.275002</td>\n",
       "    </tr>\n",
       "  </tbody>\n",
       "</table>\n",
       "<p>5 rows × 566 columns</p>\n",
       "</div>"
      ],
      "text/plain": [
       "        0         1         2         3         4    5         6         7    \\\n",
       "0  0.226301  0.849728 -0.437931  0.031923 -0.050123  0.0 -0.559986  0.255040   \n",
       "1  1.108313 -0.382754  1.014575  0.151122 -0.059587  0.0  0.200559  0.305366   \n",
       "2 -1.110931  0.799112 -0.482920  0.682872 -0.047449  0.0 -0.901749  0.244975   \n",
       "3 -0.347789 -0.198742 -0.053444 -1.105593 -0.050833  0.0  0.505003  0.003412   \n",
       "4  0.244118  0.087624  1.114763 -0.160047 -0.047035  0.0 -0.112438  0.184584   \n",
       "\n",
       "        8         9    ...       556       557       558        559  \\\n",
       "0  0.509872  1.128455  ... -0.229797 -0.135520  0.118476  -0.204765   \n",
       "1  0.457047  0.022693  ... -0.263493 -0.460054  0.529965   0.406796   \n",
       "2 -0.260840  0.327275  ... -0.205046 -0.590505 -1.262951   0.022386   \n",
       "3  0.343268 -0.765245  ... -0.224950 -0.645708 -0.322405  -0.292131   \n",
       "4  0.545089 -0.149461  ... -0.230791 -0.454486 -5.906897  26.867038   \n",
       "\n",
       "         560        561       562       563       564       565  \n",
       "0  -0.093106  -0.196991 -0.164944 -0.433115 -0.315062 -0.363124  \n",
       "1   0.444803   0.385174 -0.960061  0.412105  0.250318  1.156872  \n",
       "2   0.014476   0.029952  2.991230  3.627123  3.321515 -0.178909  \n",
       "3  -0.362061  -0.283293 -0.101789 -0.178640 -0.308082 -0.275002  \n",
       "4  27.071310  26.913163 -0.101789 -0.178640 -0.308082 -0.275002  \n",
       "\n",
       "[5 rows x 566 columns]"
      ]
     },
     "execution_count": 45,
     "metadata": {},
     "output_type": "execute_result"
    }
   ],
   "source": [
    "# 标准化\n",
    "df_scaled=pd.DataFrame(StandardScaler().fit_transform(df_nona))\n",
    "df_scaled.head()"
   ]
  },
  {
   "cell_type": "code",
   "execution_count": 47,
   "id": "68a0dffc",
   "metadata": {},
   "outputs": [
    {
     "data": {
      "text/plain": [
       "Text(0, 0.5, 'Silhouette')"
      ]
     },
     "execution_count": 47,
     "metadata": {},
     "output_type": "execute_result"
    },
    {
     "data": {
      "image/png": "[encoded data removed]",
      "text/plain": [
       "<Figure size 640x480 with 1 Axes>"
      ]
     },
     "metadata": {},
     "output_type": "display_data"
    }
   ],
   "source": [
    "silhouette_list = []    #轮廓系数列表\n",
    "\n",
    "for i in range(2,11):\n",
    "    \n",
    "  kmeans_model = KMeans(n_clusters=i, random_state=42)\n",
    "  kmeans_model.fit(df_scaled)\n",
    "  score_ = silhouette_score(df_scaled,kmeans_model.labels_)  \n",
    "  silhouette_list.append(score_)\n",
    "\n",
    "\n",
    "sns.set(style='darkgrid')\n",
    "plt.plot(range(2,11), silhouette_list)\n",
    "plt.title('The score of silhouette')\n",
    "plt.xlabel('Number of Clusters')\n",
    "plt.ylabel('Silhouette')\n"
   ]
  },
  {
   "cell_type": "code",
   "execution_count": 52,
   "id": "92cbf763",
   "metadata": {},
   "outputs": [
    {
     "name": "stdout",
     "output_type": "stream",
     "text": [
      "              precision    recall  f1-score   support\n",
      "\n",
      "           0      0.200     0.010     0.018       104\n",
      "           1      0.934     0.997     0.965      1463\n",
      "\n",
      "    accuracy                          0.932      1567\n",
      "   macro avg      0.567     0.503     0.491      1567\n",
      "weighted avg      0.885     0.932     0.902      1567\n",
      "\n"
     ]
    }
   ],
   "source": [
    "kmeans_model = KMeans(n_clusters=2, random_state=42).fit(df_scaled)\n",
    "print(classification_report(labels_df[0], kmeans_model.labels_, digits = 3))"
   ]
  },
  {
   "cell_type": "code",
   "execution_count": 50,
   "id": "f8b6e266",
   "metadata": {},
   "outputs": [
    {
     "data": {
      "image/png": "[encoded data removed]",
      "text/plain": [
       "<Figure size 250x250 with 1 Axes>"
      ]
     },
     "metadata": {},
     "output_type": "display_data"
    }
   ],
   "source": [
    "# 混淆矩阵\n",
    "confmat = confusion_matrix(labels_df[0], kmeans_model.labels_)\n",
    "fig, ax = plt.subplots(figsize=(2.5, 2.5))\n",
    "ax.matshow(confmat, cmap=plt.cm.Blues, alpha=0.3)\n",
    "for i in range(confmat.shape[0]):\n",
    "    for j in range(confmat.shape[1]):\n",
    "        ax.text(x=j, y=i, s=confmat[i, j], va='center', ha='center')\n",
    "plt.xlabel('predicted label')\n",
    "plt.ylabel('true label')\n",
    "plt.show()"
   ]
  },
  {
   "cell_type": "code",
   "execution_count": null,
   "id": "04b5a208",
   "metadata": {},
   "outputs": [],
   "source": []
  }
 ],
 "metadata": {
  "kernelspec": {
   "display_name": "Python 3 (ipykernel)",
   "language": "python",
   "name": "python3"
  },
  "language_info": {
   "codemirror_mode": {
    "name": "ipython",
    "version": 3
   },
   "file_extension": ".py",
   "mimetype": "text/x-python",
   "name": "python",
   "nbconvert_exporter": "python",
   "pygments_lexer": "ipython3",
   "version": "3.8.2"
  }
 },
 "nbformat": 4,
 "nbformat_minor": 5
}
